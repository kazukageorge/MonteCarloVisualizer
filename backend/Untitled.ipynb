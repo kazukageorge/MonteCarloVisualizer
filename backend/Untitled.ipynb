{
 "cells": [
  {
   "cell_type": "code",
   "execution_count": 12,
   "metadata": {},
   "outputs": [],
   "source": [
    "from random import uniform\n",
    "import matplotlib.pyplot as plt\n",
    "import numpy as np\n",
    "import math\n",
    "import time\n",
    "import re"
   ]
  },
  {
   "cell_type": "code",
   "execution_count": 6,
   "metadata": {},
   "outputs": [],
   "source": [
    "\n",
    "def getDataPoints(N, burn):\n",
    "\n",
    "    X = [uniform(-1,1) for _ in range(N)]\n",
    "    Y = [uniform(-1,1) for _ in range(N)]\n",
    "    Color = ['#FF0000' if X[i]**2 + Y[i]**2 > 1 else '#45b6fe' for i in range(N)]\n",
    "\n",
    "    inside = 0\n",
    "    outside = 0\n",
    "    approx = 1\n",
    "    data = [{} for _ in range(N)]\n",
    "    for i in range(N):\n",
    "        if X[i]**2 + Y[i]**2 > 1:\n",
    "            outside += 1\n",
    "        else:\n",
    "            inside += 1\n",
    "       \n",
    "        if inside > 1 and outside > 1:\n",
    "            approx = 4 * (inside / (inside + outside))\n",
    "\n",
    "        data[i]['x'] = X[0:i+1]\n",
    "        data[i]['y'] = Y[0:i+1]\n",
    "        data[i]['color'] = Color[0:i+1]\n",
    "\n",
    "        data[i]['inside'] = inside\n",
    "        data[i]['outside'] = outside\n",
    "        data[i]['approx_pi'] = approx\n",
    "\n",
    "    \n",
    "\n",
    "    return data[::burn]"
   ]
  },
  {
   "cell_type": "code",
   "execution_count": 8,
   "metadata": {},
   "outputs": [
    {
     "name": "stdout",
     "output_type": "stream",
     "text": [
      "50\n"
     ]
    }
   ],
   "source": [
    "data = getDataPoints(100, 2)\n",
    "print(len(data))"
   ]
  },
  {
   "cell_type": "code",
   "execution_count": 27,
   "metadata": {},
   "outputs": [],
   "source": [
    "string = 'http://127.0.0.1:8000/MonteCarlo/iteration=10000_burn=50'\n",
    "a = re.findall('=[0-9]+', string)"
   ]
  },
  {
   "cell_type": "code",
   "execution_count": 28,
   "metadata": {},
   "outputs": [],
   "source": [
    "N = a[0][1:]"
   ]
  },
  {
   "cell_type": "code",
   "execution_count": 30,
   "metadata": {},
   "outputs": [
    {
     "data": {
      "text/plain": [
       "10000"
      ]
     },
     "execution_count": 30,
     "metadata": {},
     "output_type": "execute_result"
    }
   ],
   "source": [
    "int(N)\n"
   ]
  },
  {
   "cell_type": "code",
   "execution_count": null,
   "metadata": {},
   "outputs": [],
   "source": []
  }
 ],
 "metadata": {
  "kernelspec": {
   "display_name": "Python 3",
   "language": "python",
   "name": "python3"
  },
  "language_info": {
   "codemirror_mode": {
    "name": "ipython",
    "version": 3
   },
   "file_extension": ".py",
   "mimetype": "text/x-python",
   "name": "python",
   "nbconvert_exporter": "python",
   "pygments_lexer": "ipython3",
   "version": "3.8.5"
  }
 },
 "nbformat": 4,
 "nbformat_minor": 4
}
