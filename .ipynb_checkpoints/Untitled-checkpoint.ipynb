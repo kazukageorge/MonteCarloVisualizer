{
 "cells": [
  {
   "cell_type": "code",
   "execution_count": 3,
   "metadata": {},
   "outputs": [],
   "source": [
    "\n",
    "from random import seed\n",
    "from random import random\n",
    "import matplotlib.pyplot as plt\n",
    "\n"
   ]
  },
  {
   "cell_type": "code",
   "execution_count": 7,
   "metadata": {},
   "outputs": [
    {
     "ename": "SyntaxError",
     "evalue": "invalid syntax (<ipython-input-7-b55758bde6b7>, line 28)",
     "output_type": "error",
     "traceback": [
      "\u001b[0;36m  File \u001b[0;32m\"<ipython-input-7-b55758bde6b7>\"\u001b[0;36m, line \u001b[0;32m28\u001b[0m\n\u001b[0;31m    generatePoints(fig, ax N)\u001b[0m\n\u001b[0m                           ^\u001b[0m\n\u001b[0;31mSyntaxError\u001b[0m\u001b[0;31m:\u001b[0m invalid syntax\n"
     ]
    }
   ],
   "source": [
    "\n",
    "# # generate a unit circle\n",
    "# def generateCircle(fig, ax):\n",
    "#     plt.circle((0,0),1)\n",
    "#     pass\n",
    "    \n",
    "\n",
    "def generatePoints(fig, ax,  N):\n",
    "    for i in range(N):\n",
    "        ax.scatter(random(), random(), color='black', alpha=0.3, label='')\n",
    "    plt.show()\n",
    "    pass\n",
    "\n",
    "\n",
    "def saveFig(ax):\n",
    "    pass\n",
    "\n",
    "\n",
    "# Number of simulations \n",
    "N = 100\n",
    "\n",
    "# generate template figure\n",
    "fig, ax = plt.subplots(1, 1, figsize=(10, 5))\n",
    "\n",
    "# draw circle\n",
    "generateCircle(fig, ax)\n",
    "\n",
    "# generate random numbers \n",
    "generatePoints(fig, ax N)\n",
    "\n",
    "saveFig(ax)"
   ]
  },
  {
   "cell_type": "code",
   "execution_count": null,
   "metadata": {},
   "outputs": [],
   "source": []
  }
 ],
 "metadata": {
  "kernelspec": {
   "display_name": "Python 3",
   "language": "python",
   "name": "python3"
  },
  "language_info": {
   "codemirror_mode": {
    "name": "ipython",
    "version": 3
   },
   "file_extension": ".py",
   "mimetype": "text/x-python",
   "name": "python",
   "nbconvert_exporter": "python",
   "pygments_lexer": "ipython3",
   "version": "3.8.5"
  }
 },
 "nbformat": 4,
 "nbformat_minor": 4
}
