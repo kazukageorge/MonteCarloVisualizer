{
 "cells": [
  {
   "cell_type": "markdown",
   "metadata": {},
   "source": [
    "# Homework #0: Solutions\n",
    "## Review of Stastistical Modeling and Scientific Computing\n",
    "\n",
    "**AM 207: Advanced Scientific Computing**<br>\n",
    "**Instructor: Weiwei Pan**<br>\n",
    "**Fall 2020**"
   ]
  },
  {
   "cell_type": "markdown",
   "metadata": {},
   "source": [
    "### Instructions:\n",
    "\n",
    "**Submission Format:** Use this notebook as a template to complete your homework. Please intersperse text blocks (using Markdown cells) amongst `python` code and results -- format your submission for maximum readability. Your assignments will be graded for correctness as well as clarity of exposition and presentation -- a “right” answer by itself without an explanation or is presented with a difficult to follow format will receive no credit.\n",
    "\n",
    "**Code Check:** Before submitting, you must do a \"Restart and Run All\" under \"Kernel\" in the Jupyter or colab menu. Portions of your submission that contains syntactic or run-time errors will not be graded.\n",
    "\n",
    "**Libraries and packages:** Unless a problems specifically asks you to implement from scratch, you are welcomed to use any `python` library package in the standard Anaconda distribution."
   ]
  },
  {
   "cell_type": "code",
   "execution_count": 1,
   "metadata": {},
   "outputs": [],
   "source": [
    "### Import basic libraries\n",
    "import numpy as np\n",
    "import pandas as pd\n",
    "import sklearn as sk\n",
    "from sklearn.linear_model import LinearRegression\n",
    "import matplotlib.pyplot as plt\n",
    "%matplotlib inline"
   ]
  },
  {
   "cell_type": "markdown",
   "metadata": {},
   "source": [
    "## Part I: Maximum Likelihood Estimators for Linear Regression\n",
    "### (Material covered in CS109A or equivalent)\n",
    "In this problem, you are given a dataset with a single predictor $X$ and a single outcome $y$, and your task is to fit a linear model to the data. The dataset is saved as `HW0_data.csv` in CSV (Comma Separated Values) format and can be read using the `.read_csv()` function from the `pandas` library.\n",
    "\n",
    "Assume that the outcome $y$ can be modeled by the following process:\n",
    "\\begin{aligned}\n",
    "y &= f(x) + \\epsilon = w_1x + w_0 + \\epsilon, \\quad \\epsilon \\sim \\mathcal{N}(0, 0.5)\n",
    "\\end{aligned}\n",
    "where $w_1$ and $w_0$, the *parameters* of the function $f$, are unknown constants. \n",
    "\n",
    "1. **(Model Building)** Write the analytical expression for the likelihood function $p(y|x, w_1, w_0)$, for a single observation $(x, y)$. Write the analytical expression for the likelihood function $\\prod_{n=1}^N p(y_n|x_n, w_1, w_0)$ for an entire dataset of $N$ number of observations.\n",
    "\n",
    "  *Hint: for a given $x$ and fixed parameters, what is the distribution of $y$?*\n",
    "  \n",
    "  \n",
    "**Solution:** Since $\\epsilon$ in the above model is a random variable, so is $y$. Since $w_1$ and $w_0$ are constants, the distribution of $y$ should be that of $\\epsilon$ translated by $f(x)$. That is, \n",
    "$$\n",
    "p(y|x, w_1, w_0) = \\mathcal{N}(y; w_1x + w_0, 0.5) = \\frac{1}{\\sqrt{2\\pi 0.5}} \\exp\\left\\{-\\frac{(y - (w_1x + w_0))^2}{2 * 0.5} \\right\\}.\n",
    "$$\n",
    "The joint likelihood for an entire dataset of $N$ observations is therefore:\n",
    "$$\n",
    "\\prod_{n=1}^N p(y_n|x_n, w_1, w_0) =\\prod_{n=1}^N \\frac{1}{\\sqrt{2\\pi 0.5}} \\exp\\left\\{-\\frac{(y - (w_1x + w_0))^2}{2 * 0.5} \\right\\} = \\left(\\frac{1}{\\sqrt{2\\pi 0.5}}\\right)^N \\exp\\left\\{-\\frac{\\sum_{n=1}^N (y - (w_1x + w_0))^2}{2 * 0.5} \\right\\}.\n",
    "$$\n"
   ]
  },
  {
   "cell_type": "markdown",
   "metadata": {},
   "source": [
    "2. **(Defining a Learning Objective)** The Maximum Likelihood Estimators (MLE) of $w_1$ and $w_0$ are defined as\n",
    "\\begin{aligned}\n",
    "w^{\\text{MLE}}_1, w^{\\text{MLE}}_0 = \\underset{w_1, w_0}{\\mathrm{argmax}}\\; \\prod_{n=1}^N p(y_n | x_n, w_1, w_0)\n",
    "\\end{aligned}\n",
    "Show that finding $w_1$ and $w_0$ that maximizes the likelihood is equivalent to finding parameters that minimize the Mean Squared Error (MSE) of your model.\n",
    "*Hint:* show that maximizing the log likelihood is equivalent to minimizing the MSE.\n",
    "\n",
    "**Solution:** Recall that the logarithmic functions are monotone -- if $z_1 < z_2$ then $\\log(z_1) < \\log(z_2)$. This means that the values $w_1, w_0$ that will maximize the likelihood $\\prod_{n=1}^N p(y | x, w_1, w_0)$ are the same ones that will maximize the log-likelihood $\\log \\prod_{n=1}^N p(y | x, w_1, w_0)$ (and vice versa). Hence, maximizing the likelihood is equivalent to maximizing the log-likelihood:\n",
    "\\begin{aligned}\n",
    "w^{\\text{MLE}}_1, w^{\\text{MLE}}_0 = \\underset{w_1, w_0}{\\mathrm{argmax}}\\; \\prod_{n=1}^N p(y_n | x_n, w_1, w_0) = \\underset{w_1, w_0}{\\mathrm{argmax}}\\; \\log \\left[\\prod_{n=1}^N p(y_n | x_n, w_1, w_0)\\right].\n",
    "\\end{aligned}\n",
    "\n",
    "Now the log-likelihood can be simplified, applying the properties of logarithmic functions\n",
    "\\begin{aligned}\n",
    "\\log \\left[\\prod_{n=1}^N p(y_n | x_n, w_1, w_0)\\right] &= \\log \\left[\\left(\\frac{1}{\\sqrt{2\\pi 0.5}}\\right)^N \\exp\\left\\{-\\frac{\\sum_{n=1}^N (y_n - (w_1x_n + w_0))^2}{2 * 0.5} \\right\\}\\right]\\\\\n",
    "&= N \\log \\left[ \\frac{1}{\\sqrt{2\\pi 0.5}} \\right] -\\frac{\\sum_{n=1}^N (y_n - (w_1x_n + w_0))^2}{2 * 0.5}.\n",
    "\\end{aligned}\n",
    "Note that the first term, $N \\log \\left[ \\frac{1}{\\sqrt{2\\pi 0.5}} \\right]$, in the simplified expression of the log-likelihood is a constant (doesn't depend on $w_1$ and $w_0$), therefore, maximizing the log-likelihood is equivalent to minimizing the term that is subtracted from the first term:\n",
    "\\begin{aligned}\n",
    "\\underset{w_1, w_0}{\\mathrm{argmax}} \\log \\left[\\prod_{n=1}^N p(y_n | x_n, w_1, w_0)\\right] &\\equiv \\underset{w_1, w_0}{\\mathrm{argmin}} \\frac{\\sum_{n=1}^N (y_n - (w_1x_n + w_0))^2}{2 * 0.5}\\\\\n",
    "&\\equiv \\underset{w_1, w_0}{\\mathrm{argmin}}\\sum_{n=1}^N (y_n - (w_1x_n + w_0))^2\\\\\n",
    "&\\equiv \\underset{w_1, w_0}{\\mathrm{argmin}}\\frac{1}{N}\\sum_{n=1}^N (y_n - (w_1x_n + w_0))^2\n",
    "\\end{aligned}\n",
    "The last equivalence in the above is the expression for the minimum MSE estimates for $w_1$ and $w_0$.\n",
    "\n",
    "Thus, we see that maximizing the log-likelihood (and hence the likelihood) is equivalant to minimizing the mean squared error."
   ]
  },
  {
   "cell_type": "markdown",
   "metadata": {},
   "source": [
    "3. **(Model Fitting)** Analytically derive the formulae for MLE of $w_1$ and $w_0$. Describe what information you would need in order ***prove*** that the parameters you derived maximizes the likelihood (or minimizes the MSE)?\n",
    "\n",
    "  **Optional but Useful:** express your derivation of the MLE in matrix notation (i.e. [perform matrix calculus](https://www.math.uwaterloo.ca/~hwolkowi/matrixcookbook.pdf)).\n",
    "\n",
    "  *Hint: this part requires multivariate calculus.*\n",
    "  \n",
    "**Solution:** From #2, we see that maximizing the likelihood is equivalent to minimizing the MSE:\n",
    "$$\n",
    "w^{\\text{MLE}}_1, w^{\\text{MLE}}_0 = \\underset{w_1, w_0}{\\mathrm{argmin}}\\sum_{n=1}^N (y_n - (w_1x_n + w_0))^2.\n",
    "$$\n",
    "\n",
    "From calculus, we know that the global minimum of a function over the entire domain of possible inputs must occur at stationary points (points where the gradient is zero) if such a global min exists at all. So we first compute the gradient of the expression for MSE, which is a vector of the two partial derivatives of the MSE:\n",
    "$$\n",
    "\\nabla_{w_1, w_0}\\left( \\frac{1}{N}\\sum_{n=1}^N (y_n - (w_1x_n + w_0))^2\\right) = \\left[\\frac{\\partial}{w_1}\\left(\\frac{1}{N}\\sum_{n=1}^N (y_n - (w_1x_n + w_0))^2\\right), \\frac{\\partial}{w_0}\\left(\\frac{1}{N}\\sum_{n=1}^N (y_n - (w_1x_n + w_0))^2\\right) \\right].\n",
    "$$\n",
    "Each partial derivative can be computed as: \n",
    "\\begin{aligned}\n",
    "\\frac{\\partial}{w_1}\\left(\\frac{1}{N}\\sum_{n=1}^N (y_n - (w_1x_n + w_0))^2\\right) &= \\frac{1}{N}\\sum_{n=1}^N -2x_n (y_n - (w_1x_n + w_0))\\\\\n",
    "\\frac{\\partial}{w_0}\\left(\\frac{1}{N}\\sum_{n=1}^N (y_n - (w_1x_n + w_0))^2\\right) &= \\frac{1}{N}\\sum_{n=1}^N -2(y_n - (w_1x_n + w_0))\\\\\n",
    "\\end{aligned}\n",
    "\n",
    "We set the gradient to zero and solve for the stationary point $(w^*_0, w^*_1)$:\n",
    "\n",
    "\\begin{cases}\n",
    "0 = \\frac{1}{N}\\sum_{n=1}^N -2x_n (y_n - (w_1x_n + w_0)) &\\\\\n",
    "0 = \\frac{1}{N}\\sum_{n=1}^N -2(y_n - (w_1x_n + w_0)) &\n",
    "\\end{cases}\n",
    "\n",
    "You can solve the above system of linear equations in any number of ways. For example, we can solve the second equation for $w_0$:\n",
    "\\begin{aligned}\n",
    "0 &= \\frac{1}{N}\\sum_{n=1}^N -2(y_n - (w_1x_n + w_0))\\\\\n",
    " &= \\sum_{n=1}^N y_n - \\sum_{n=1}^N w_1x_n - N * w_0\\\\\n",
    "w_0 &= \\frac{1}{N} \\sum_{n=1}^N y_n - \\frac{1}{N}\\sum_{n=1}^N w_1x_n\n",
    "\\end{aligned}\n",
    "Then we can substitute our solution for $w_0$ into the first equation and solve for $w_1$:\n",
    "\\begin{aligned}\n",
    "0 &= \\frac{1}{N}\\sum_{n=1}^N -2x_n \\left(y_n - \\left(w_1x_n + \\frac{1}{N} \\sum_{n=1}^N y_n - \\frac{1}{N}\\sum_{n=1}^N w_1x_n\\right)\\right)\\\\\n",
    "&= \\sum_{n=1}^N x_n y_n - w_1 \\sum_{n=1}^Nx^2_n + \\frac{1}{N} \\sum_{n=1}^N x_n  \\sum_{n=1}^N y_n + w_1 \\frac{1}{N} \\left(\\sum_{n=1}^N x_n\\right)^2\\\\\n",
    "w_1 &= \\frac{\\sum_{n=1}^N x_n y_n + \\frac{1}{N} \\sum_{n=1}^N x_n  \\sum_{n=1}^N y_n}{\\sum_{n=1}^Nx^2_n - \\frac{1}{N} \\left(\\sum_{n=1}^N x_n\\right)^2}\n",
    "\\end{aligned}\n",
    "\n",
    "To summarize, we've derived that the gradient has a unique stationary point at \n",
    "\\begin{cases}\n",
    "w^*_0 = \\frac{1}{N} \\sum_{n=1}^N y_n - \\frac{1}{N}\\sum_{n=1}^N w^*_1x_n&\\\\\n",
    "w^*_1 = \\frac{\\sum_{n=1}^N x_n y_n + \\frac{1}{N} \\sum_{n=1}^N x_n  \\sum_{n=1}^N y_n}{\\sum_{n=1}^Nx^2_n - \\frac{1}{N} \\left(\\sum_{n=1}^N x_n\\right)^2}& .\n",
    "\\end{cases}\n",
    "\n",
    "In order to show that the MSE is minimized at the point $(w^*_0, w^*_1)$, we need to show that the mean square error of our linear model is concave. This means, in case you are interested, we need to compute the Hessian of the MSE function (the 'second derivative') and verify that it is negative definite (the multivariable version of 'the second derivative is negative').\n",
    "\n",
    "**Derivation in Matrix Notation**\n",
    "\n",
    "Let $w$ denote a vector of both the slope and the intercept, $w = [w_1\\;\\; w_0]^\\top \\in \\mathbb{R}^{2\\times 1}$. Let $\\mathbf{x}_n$ represent a vector with the $n$-th input and a constant 1, $ \\mathbf{x}_n = [x_1\\;\\; 1]$. Thus, we can represent $w_1 * x_n + w_0$ as the inner product of two vectors, $w^\\top\\mathbf{x}_n$.\n",
    "\n",
    "Thus, the mean square error can be expressed as\n",
    "$$\n",
    "\\frac{1}{N}\\sum_{n=1}^N (y_n - w^\\top\\mathbf{x}_n)^2.\n",
    "$$\n",
    "\n",
    "We can further simplify the MLE expression by introducing more matrix notation. Let $\\mathbf{y}$ denote the vector of observed output, $\\mathbf{y} = [y_1\\;\\; \\ldots y_N]^\\top \\in \\mathbb{R}^N$. Let $\\mathbf{X}$ be the matrix of inputs, augmented with a column of 1's, $\\mathbf{X} = \\left[\\begin{array}{cc} x_1 & 1\\\\\\vdots &\\vdots\\\\ x_N & 1 \\end{array}\\right]$. Then we can recognize that the sum of squares in the MSE expression is the inner product of two vectors\n",
    "$$\n",
    "\\frac{1}{N}\\sum_{n=1}^N (y_n - w^\\top\\mathbf{x}_n)^2 = \\frac{1}{N} (\\mathbf{y} - \\mathbf{X}w)^\\top (\\mathbf{y} - \\mathbf{X}w).\n",
    "$$\n",
    "\n",
    "When minimizing the matrix form of the MSE, we take the ***matrix derivative*** with respect to the vector $w$: \n",
    "\\begin{aligned}\n",
    "\\nabla_w \\frac{1}{N} (\\mathbf{y} - \\mathbf{X}w)^\\top (\\mathbf{y} - \\mathbf{X}w) &= \\frac{1}{N}\\nabla_w  (\\mathbf{y} - \\mathbf{X}w)^\\top (\\mathbf{y} - \\mathbf{X}w)\\\\\n",
    "&=  \\frac{1}{N}\\nabla_w (\\mathbf{y}^\\top - w^\\top\\mathbf{X}^\\top)(\\mathbf{y} - \\mathbf{X}w)\\\\\n",
    "&= \\frac{1}{N}\\nabla_w (\\mathbf{y}^\\top\\mathbf{y} - w^\\top\\mathbf{X}^\\top\\mathbf{y} - \\mathbf{y}^\\top\\mathbf{X}w + w^\\top\\mathbf{X}^\\top\\mathbf{X}w)\\\\\n",
    "&= \\frac{1}{N}\\nabla_w (\\mathbf{y}^\\top\\mathbf{y} - 2w^\\top\\mathbf{X}^\\top\\mathbf{y} + w^\\top\\mathbf{X}^\\top\\mathbf{X}w)\\\\\n",
    "&= \\frac{1}{N} \\left( -2\\mathbf{y}^\\top\\mathbf{X} + w^\\top (X^\\top X + X^\\top X)\\right)\n",
    "\\end{aligned}\n",
    "\n",
    "We set the derivative to 0 and solve for the roots:\n",
    "\\begin{aligned}\n",
    "\\frac{1}{N} \\left( -2\\mathbf{y}^\\top\\mathbf{X} + w^\\top (X^\\top X + X^\\top X)\\right) &= 0\\\\\n",
    "-\\mathbf{y}^\\top\\mathbf{X} + w^\\top X^\\top X&= 0\\\\\n",
    "w^\\top X^\\top X &= \\mathbf{y}^\\top\\mathbf{X}\\\\\n",
    "w^\\top &= \\mathbf{y}^\\top\\mathbf{X}(X^\\top X)^{-1}\\\\\n",
    "w &= (X^\\top X)^{-1}\\mathbf{X}^\\top\\mathbf{y}.\n",
    "\\end{aligned}"
   ]
  },
  {
   "cell_type": "markdown",
   "metadata": {},
   "source": [
    "4. **(Model Evaluation)** Using the `LinearRegression` class from `sklearn.linear_model`, fit a linear regression model to the dataset in `HW0_data.csv`. When you call the `.fit()` function of `LinearRegression`, the default is to find parameters that minimize MSE.\n",
    "\n",
    "  Visualize the linear function you fitted as well as the data in one plot. \n",
    "  Visualize a histogram of the residuals.\n",
    "  Using both plots, argue for whether or not your model is appropriate for the data.\n",
    "  \n",
    "  *Hint: look at the assumptions you've made in your modeling process, which assumptions are supported by the data, which are contradicted by the data?*\n",
    "  \n",
    "**Solution:**\n",
    "First, we read in the data as a `pandas` `DataFrame` using the `.read_csv()` function from `pandas`. We inspect the first 5 rows of the data frame."
   ]
  },
  {
   "cell_type": "code",
   "execution_count": 2,
   "metadata": {},
   "outputs": [
    {
     "data": {
      "text/html": [
       "<div>\n",
       "<style scoped>\n",
       "    .dataframe tbody tr th:only-of-type {\n",
       "        vertical-align: middle;\n",
       "    }\n",
       "\n",
       "    .dataframe tbody tr th {\n",
       "        vertical-align: top;\n",
       "    }\n",
       "\n",
       "    .dataframe thead th {\n",
       "        text-align: right;\n",
       "    }\n",
       "</style>\n",
       "<table border=\"1\" class=\"dataframe\">\n",
       "  <thead>\n",
       "    <tr style=\"text-align: right;\">\n",
       "      <th></th>\n",
       "      <th>x</th>\n",
       "      <th>y</th>\n",
       "    </tr>\n",
       "  </thead>\n",
       "  <tbody>\n",
       "    <tr>\n",
       "      <th>0</th>\n",
       "      <td>-1.989678</td>\n",
       "      <td>1.493437</td>\n",
       "    </tr>\n",
       "    <tr>\n",
       "      <th>1</th>\n",
       "      <td>4.031862</td>\n",
       "      <td>24.280045</td>\n",
       "    </tr>\n",
       "    <tr>\n",
       "      <th>2</th>\n",
       "      <td>1.356093</td>\n",
       "      <td>22.583479</td>\n",
       "    </tr>\n",
       "    <tr>\n",
       "      <th>3</th>\n",
       "      <td>-5.069544</td>\n",
       "      <td>-6.976054</td>\n",
       "    </tr>\n",
       "    <tr>\n",
       "      <th>4</th>\n",
       "      <td>2.464958</td>\n",
       "      <td>22.710081</td>\n",
       "    </tr>\n",
       "  </tbody>\n",
       "</table>\n",
       "</div>"
      ],
      "text/plain": [
       "          x          y\n",
       "0 -1.989678   1.493437\n",
       "1  4.031862  24.280045\n",
       "2  1.356093  22.583479\n",
       "3 -5.069544  -6.976054\n",
       "4  2.464958  22.710081"
      ]
     },
     "execution_count": 2,
     "metadata": {},
     "output_type": "execute_result"
    }
   ],
   "source": [
    "df = pd.read_csv('HW0_data.csv')\n",
    "df.head()"
   ]
  },
  {
   "cell_type": "markdown",
   "metadata": {},
   "source": [
    "We get a sense of the data by scatter plotting it."
   ]
  },
  {
   "cell_type": "code",
   "execution_count": 3,
   "metadata": {},
   "outputs": [
    {
     "data": {
      "image/png": "[encoded data removed]",
      "text/plain": [
       "<Figure size 720x360 with 1 Axes>"
      ]
     },
     "metadata": {
      "needs_background": "light"
     },
     "output_type": "display_data"
    }
   ],
   "source": [
    "fig, ax = plt.subplots(1, 1, figsize=(10, 5))\n",
    "ax.scatter(df['x'].values, df['y'].values, color='black', alpha=0.3, label='training data')\n",
    "ax.set_xlabel('x')\n",
    "ax.set_ylabel('y')\n",
    "ax.set_title('Scatter Plot of the Dataset Given')\n",
    "ax.legend(loc='best')\n",
    "plt.show()"
   ]
  },
  {
   "cell_type": "markdown",
   "metadata": {},
   "source": [
    "We make an instance of the `LinearRegression` class and fit it to our data."
   ]
  },
  {
   "cell_type": "code",
   "execution_count": 4,
   "metadata": {},
   "outputs": [
    {
     "data": {
      "text/plain": [
       "LinearRegression(copy_X=True, fit_intercept=True, n_jobs=None, normalize=False)"
      ]
     },
     "execution_count": 4,
     "metadata": {},
     "output_type": "execute_result"
    }
   ],
   "source": [
    "linear_model = LinearRegression()\n",
    "x = df['x'].values.reshape((-1, 1))\n",
    "y = df['y'].values\n",
    "linear_model.fit(x, y)"
   ]
  },
  {
   "cell_type": "markdown",
   "metadata": {},
   "source": [
    "Using our fitted `LinearRegression` model, we predict the $y$ values given the $x$ values of our training data. From this, we compute the residuals (individual prediction errors). \n",
    "\n",
    "From the fitted `LinearRegression` model we extract the regression parameters."
   ]
  },
  {
   "cell_type": "code",
   "execution_count": 5,
   "metadata": {},
   "outputs": [
    {
     "data": {
      "image/png": "[encoded data removed]",
      "text/plain": [
       "<Figure size 1440x360 with 2 Axes>"
      ]
     },
     "metadata": {
      "needs_background": "light"
     },
     "output_type": "display_data"
    }
   ],
   "source": [
    "#use fitted model to predict on training data\n",
    "y_predict = linear_model.predict(x)\n",
    "#compute residuals\n",
    "residuals = y - y_predict\n",
    "#extract MLE for slope\n",
    "slope_mle = np.round(linear_model.coef_[0])\n",
    "#extract MLE for intercept\n",
    "intercept_mle = np.round(linear_model.intercept_)\n",
    "\n",
    "fig, ax = plt.subplots(1, 2, figsize=(20, 5))\n",
    "#scatter plot training data\n",
    "ax[0].scatter(df['x'].values, df['y'].values, color='black', alpha=0.3, label='training data')\n",
    "#plot predction as a trend line\n",
    "ax[0].plot(x, y_predict, color='red', label='MLE model: {}x + {}'.format(slope_mle, intercept_mle))\n",
    "\n",
    "ax[0].set_xlabel('x')\n",
    "ax[0].set_ylabel('y')\n",
    "ax[0].set_title('Visualization of the MLE model and training data')\n",
    "ax[0].legend(loc='best')\n",
    "\n",
    "#plot a histogram of the residuals\n",
    "ax[1].hist(residuals, bins=25, density=True, color='red', alpha=0.8)\n",
    "ax[1].set_title('Histogram of residuals')\n",
    "ax[1].set_xlabel('Residual value')\n",
    "ax[1].set_ylabel('Relative frequency')\n",
    "plt.show()"
   ]
  },
  {
   "cell_type": "markdown",
   "metadata": {},
   "source": [
    "From the histogram of the residuals (on the left), we can see that (1) the residuals are not normally distributed as we assumed in our model (2) they are not centered at zero as we assumed. From the plot of the training data with our fitted model, we can see that (1) the trend or mean of the data looks to be linear, as we assumed, but (2) the y-values are not distributed about the trend in an equally noisy way. That is, for some values of $x$ the $y$ values vary greatly from the trend (the noise is high) and for some $x$ values the $y$ values closely follow the trend (the noise is low). I.e. the noise variance depends on the value of $x$.\n",
    "\n",
    "We may conclude that a linear model may still be a good fit for the data, but our assumption that the noise is normally distributed and independent from $x$ do not seem to hold."
   ]
  },
  {
   "cell_type": "markdown",
   "metadata": {},
   "source": [
    "5. **(Uncertainty Quantification)** Compute the 95% [Confidence Interval (CI)](https://stattrek.com/estimation/confidence-interval.aspx) of the parameters you estimated for the dataset in `HW0_data.csv` by bootstrapping (this requires you to access the model parameters of the `LinearRegression` class). How confident are you in the 'correctness' or 'reliability' of your parameter estimates given the CI's?\n",
    "\n",
    "  Compute the [Predictive Interval (PI)](https://otexts.com/fpp2/prediction-intervals.html) of a single prediction at $x=2$ by bootstrapping. How confident are you in your prediction for $x=2$ given the PI?\n",
    "  \n",
    "  *Hint: bootstrapping is the process of (1) generating multiple datasets (with equal size as the training data) that are similarly distributed as your training data by sampling your data with replacement, (2) estimating a quantity of interest repeatedly using these datasets. You can then empirically compute the percentile of interest from the bootstrap estimates of your quanity of interest.* \n",
    "  \n",
    "  *Generating samples from your training data can be done using the `.sample()` function of the `pandas` `DataFrame` class.*\n",
    "  \n",
    "  *Computing percentiles of samples can be done using the `.percentile()` function of the `numpy` library.*\n",
    "  \n",
    "**Solutions:** We generate 100 bootrap samples of the training data, for each sample we compute the MLE for $w_0$ and $w_1$, we also compute a prediction at $x=2$ using the MLE estimates of $w_0$ and $w_1$. Since each bootstrap sample will be slightly different, we expect to get 100 different MLE estimates of $w_0$ and $w_1$, we also expect to get 100 different predictions at $x=2$. \n",
    "\n",
    "Computing the 95% interval of the different MLE estimates (CI) will tell us in what range most of the estimates lie. Computing the 95% interval of the predictions (PI) will tell us in what range most of our predictions lie."
   ]
  },
  {
   "cell_type": "code",
   "execution_count": 6,
   "metadata": {},
   "outputs": [
    {
     "data": {
      "text/html": [
       "<div>\n",
       "<style scoped>\n",
       "    .dataframe tbody tr th:only-of-type {\n",
       "        vertical-align: middle;\n",
       "    }\n",
       "\n",
       "    .dataframe tbody tr th {\n",
       "        vertical-align: top;\n",
       "    }\n",
       "\n",
       "    .dataframe thead th {\n",
       "        text-align: right;\n",
       "    }\n",
       "</style>\n",
       "<table border=\"1\" class=\"dataframe\">\n",
       "  <thead>\n",
       "    <tr style=\"text-align: right;\">\n",
       "      <th></th>\n",
       "      <th>MLE</th>\n",
       "      <th>2.5 Percentile</th>\n",
       "      <th>97.5 Percentile</th>\n",
       "    </tr>\n",
       "  </thead>\n",
       "  <tbody>\n",
       "    <tr>\n",
       "      <th>intercept</th>\n",
       "      <td>9.0</td>\n",
       "      <td>6.488073</td>\n",
       "      <td>11.409254</td>\n",
       "    </tr>\n",
       "    <tr>\n",
       "      <th>slope</th>\n",
       "      <td>5.0</td>\n",
       "      <td>4.421902</td>\n",
       "      <td>6.165347</td>\n",
       "    </tr>\n",
       "  </tbody>\n",
       "</table>\n",
       "</div>"
      ],
      "text/plain": [
       "           MLE  2.5 Percentile  97.5 Percentile\n",
       "intercept  9.0        6.488073        11.409254\n",
       "slope      5.0        4.421902         6.165347"
      ]
     },
     "execution_count": 6,
     "metadata": {},
     "output_type": "execute_result"
    }
   ],
   "source": [
    "#initialize lists for keeping track of different estimates of the slope and intercept\n",
    "slopes = []\n",
    "intercepts = []\n",
    "\n",
    "#generate 100 bootstrap samples of the data and compute MLE estimates of parameters\n",
    "for n in range(100):\n",
    "    #sample the training data with replacement\n",
    "    df_bootstrap = df.sample(frac=1., replace=True)\n",
    "    x_bootstrap = df_bootstrap['x'].values.reshape((-1, 1))\n",
    "    y_bootstrap = df_bootstrap['y'].values\n",
    "    #fit a linear regression model on the bootstrap sample\n",
    "    linear_model.fit(x_bootstrap, y_bootstrap)\n",
    "    #extract the slope of the current model\n",
    "    slopes.append(linear_model.coef_[0])\n",
    "    #extract the intercept of the current model\n",
    "    intercepts.append(linear_model.intercept_)\n",
    "\n",
    "#compute the 2.5% and 97.5 cutoff's of the slope estimates\n",
    "slope_lower = np.percentile(slopes, 2.5)\n",
    "slope_higher = np.percentile(slopes, 97.5)\n",
    "#compute the 2.5% and 97.5 cutoff's of the intercept estimates\n",
    "intercept_lower = np.percentile(intercepts, 2.5)\n",
    "intercept_higher = np.percentile(intercepts, 97.5)\n",
    "\n",
    "#format the information as a pandas dataframe\n",
    "CI_df = pd.DataFrame(data=[[intercept_mle, intercept_lower, intercept_higher], \n",
    "                           [slope_mle, slope_lower, slope_higher]],\n",
    "                     index=['intercept', 'slope'],\n",
    "                     columns=['MLE', '2.5 Percentile', '97.5 Percentile'])\n",
    "CI_df"
   ]
  },
  {
   "cell_type": "markdown",
   "metadata": {},
   "source": [
    "From the CI's, we can see that the MLE of the slope does not vary very much as we slightly change the training data. The MLE of the intercept varies much more. In practice, determining whether an estimate is unacceptably sensitive to slight changes in the input (high variance) requires knowing how the estimate affects a real-life task; in this case, we can generically say that the estimate of the MLE of the slope may be more certain than that of the intercept."
   ]
  },
  {
   "cell_type": "code",
   "execution_count": 7,
   "metadata": {},
   "outputs": [
    {
     "data": {
      "text/html": [
       "<div>\n",
       "<style scoped>\n",
       "    .dataframe tbody tr th:only-of-type {\n",
       "        vertical-align: middle;\n",
       "    }\n",
       "\n",
       "    .dataframe tbody tr th {\n",
       "        vertical-align: top;\n",
       "    }\n",
       "\n",
       "    .dataframe thead th {\n",
       "        text-align: right;\n",
       "    }\n",
       "</style>\n",
       "<table border=\"1\" class=\"dataframe\">\n",
       "  <thead>\n",
       "    <tr style=\"text-align: right;\">\n",
       "      <th></th>\n",
       "      <th>MLE</th>\n",
       "      <th>2.5 Percentile</th>\n",
       "      <th>97.5 Percentile</th>\n",
       "    </tr>\n",
       "  </thead>\n",
       "  <tbody>\n",
       "    <tr>\n",
       "      <th>y prediction at x=2</th>\n",
       "      <td>18.408455</td>\n",
       "      <td>16.786868</td>\n",
       "      <td>21.839806</td>\n",
       "    </tr>\n",
       "  </tbody>\n",
       "</table>\n",
       "</div>"
      ],
      "text/plain": [
       "                           MLE  2.5 Percentile  97.5 Percentile\n",
       "y prediction at x=2  18.408455       16.786868        21.839806"
      ]
     },
     "execution_count": 7,
     "metadata": {},
     "output_type": "execute_result"
    }
   ],
   "source": [
    "#define a linear function\n",
    "f = lambda m, b: m * 2 + b + np.random.normal(0, 0.5, size=1)[0]\n",
    "\n",
    "#for each pair of MLE, make a prediction at x=2\n",
    "y_predictions = []\n",
    "for m, b in zip(slopes, intercepts):\n",
    "    y_predictions.append(f(m, b))\n",
    "\n",
    "#compute the 2.5%, 50% 97.5% cutoff's of the predictions\n",
    "y_mle = f(slope_mle, intercept_mle)\n",
    "y_lower = np.percentile(y_predictions, 2.5)\n",
    "y_higher = np.percentile(y_predictions, 97.5)\n",
    "\n",
    "PI_df = pd.DataFrame(data=[[y_mle, y_lower, y_higher]],\n",
    "                     index=['y prediction at x=2'],\n",
    "                     columns=['MLE', '2.5 Percentile', '97.5 Percentile'])\n",
    "PI_df"
   ]
  },
  {
   "cell_type": "markdown",
   "metadata": {},
   "source": [
    "The PI gives us a sense of how much the prediction at $x=2$ varies with slight changes to the training data or how uncertain we are in a prediction. Again, whether or not the sensitivity of the prediction is acceptable is best determined with respect to a real task. We can compare the uncertainty or variability given by the PI against the actual variability of the data -- i.e. we can sample more observations near $x=2$ and check if the true values of $y$ varies as the PI describes."
   ]
  },
  {
   "cell_type": "markdown",
   "metadata": {},
   "source": [
    "## Part II: Bayesian Linear Regression\n",
    "### (Material covered in CS109 B or equivalent)\n",
    "In this problem, your task is to perform Bayesian linear regression on the dataset in `HW0_data.csv`.\n",
    "\n",
    "Assume that the outcome $y$ can be modeled by the following process:\n",
    "\\begin{aligned}\n",
    "y &= f(x) + \\epsilon = w_1x + w_0 + \\epsilon, \\quad \\epsilon \\sim \\mathcal{N}(0, 0.5)\\\\\n",
    "w_0 &\\sim \\mathcal{N}(0, 1)\\\\\n",
    "w_1 &\\sim \\mathcal{N}(0, 0.5)\n",
    "\\end{aligned}\n",
    "In this model, we assume the same likelihood as in Part I, but we also include priors for $w_0$ and $w_1$: $p(w_0) = \\mathcal{N}(0, 1)$, $p(w_1) = \\mathcal{N}(0, 0.5)$"
   ]
  },
  {
   "cell_type": "markdown",
   "metadata": {},
   "source": [
    "1. **(Inference)** Analytically derive the joint posterior distribution over the parameters. That is, analytically compute<br><br>\n",
    "\\begin{aligned}\n",
    "p(w_1, w_0 | y_1, \\ldots y_n, x_1, \\ldots, x_n) = \\frac{\\left(\\prod_{n=1}^Np(y_n|x_n, w_1, w_0)\\right)p(w_1)p(w_0)}{\\prod_{n=1}^Np(y_n|x_n)}.\\\\\n",
    "\\end{aligned}\n",
    "<br>*Hint: The posterior of a model with a Gaussian (or normal) likelihood and Gaussian priors is yet again Gaussian. This derivation is included in many machine learning textbooks like Machine Learning: a Probabilistic Perspective by Murphy or Pattern Recognition and Machine Learning by Bishop. This derivation also appears online in many course notes - you are welcomed to use any and all available resources.*\n",
    "  \n",
    "**Solution:** Using the matrix notation we introduced in Part I Problem 3, we can rewrite the likelihood using matrix notation:\n",
    "\\begin{aligned}\n",
    "p(y_1, \\ldots, y_n | x_1, \\ldots, x_n, w_0, w_1) &= \\prod_{n=1}^N\\frac{1}{\\sqrt{2\\pi\\sigma^2}} \\mathrm{exp}\\left\\{  -\\frac{1}{2\\sigma^2}(y_n - (w_1x_n + w_0)^2)\\right\\}\\\\\n",
    "&= \\frac{1}{\\sqrt{2\\pi\\sigma^2}^N} \\mathrm{exp}\\left\\{  -\\frac{1}{2\\sigma^2}\\sum_{n=1}^N(y_n - (w_1x_n + w_0)^2)\\right\\}\\\\\n",
    "&= \\frac{1}{\\sqrt{2\\pi\\sigma^2}^N} \\mathrm{exp}\\left\\{  -\\frac{1}{2\\sigma^2}(\\mathbf{y} - \\mathbf{X}w)^\\top (\\mathbf{y} - \\mathbf{X}w)\\right\\}\\\\\n",
    "&= \\frac{1}{\\sqrt{2\\pi\\sigma^2}^N} \\mathrm{exp}\\left\\{  -\\frac{1}{2}(\\mathbf{y} - \\mathbf{X}w)^\\top(\\sigma^2I_{2\\times 2})^{-1} (\\mathbf{y} - \\mathbf{X}w)\\right\\}\\\\\n",
    "&= \\mathcal{N}(\\mathbf{y}; \\mathbf{X}w, \\sigma^2I_{2\\times 2})\n",
    "\\end{aligned}\n",
    "where $I_{2\\times 2}$ is the 2x2 identity matrix. We see that the joint likelihood is just a multivariate Gaussian with mean $\\mathbf{X}w$ and a diagonal covariance matrix (the entries on the diagonal of this matrix is $\\sigma^2$). Let's denote $\\sigma^2I_{2\\times 2}$ by $\\Sigma$. \n",
    "\n",
    "Let's also express the prior as a multivariate Gaussian. Since the $p(w_0)$, $p(w_1)$ are both univariate Gaussians and we've assumed in our prior that they are independent, the joint distribution over $w_0$ and $w_1$ is a bivariate Gaussian with mean $m = [0\\;\\; 0]$ and covariance matrix $S = \\left[\\begin{array}{cc} 0.5 & 0\\\\ 0 & 1 \\end{array} \\right]$:\n",
    "$$\n",
    "w\\sim \\mathcal{N}\\left([0\\;\\; 0], \\left[\\begin{array}{cc} 0.5 & 0\\\\ 0 & 1 \\end{array} \\right] \\right).\n",
    "$$\n",
    "\n",
    "Now the posterior can be expressed as\n",
    "\\begin{aligned}\n",
    "p(w | \\mathbf{y}, \\mathbf{X}) &= \\frac{p(\\mathbf{y} | \\mathbf{X}, w)p(w)}{p(\\mathbf{y} | \\mathbf{X})}\\\\\n",
    "&= \\frac{\\frac{1}{\\sqrt{2\\pi|\\Sigma|}^N} \\mathrm{exp}\\left\\{-\\frac{1}{2} (\\mathbf{X}w - \\mathbf{y})^\\top\\Sigma^{-1}(\\mathbf{X}w - \\mathbf{y})\\right\\} \\frac{1}{\\sqrt{2\\pi|S|}^2} \\mathrm{exp}\\left\\{-\\frac{1}{2} (w - m)^\\top S^{-1}(w - m)\\right\\}}{p(\\mathbf{y} | \\mathbf{X})}\\\\\n",
    "&= \\frac{const * \\mathrm{exp}\\left\\{-\\frac{1}{2} (\\mathbf{X}w - \\mathbf{y})^\\top\\Sigma^{-1}(\\mathbf{X}w - \\mathbf{y}) + -\\frac{1}{2} (w - m)^\\top S^{-1}(w - m)\\right\\}}{const}\\\\\n",
    "&=const * \\mathrm{exp}\\left\\{-\\frac{1}{2}\\left(\\mathbf{y}^\\top\\Sigma^{-1}\\mathbf{y} - 2\\mathbf{y}^\\top \\Sigma^{-1}\\mathbf{X}w + w^\\top\\mathbf{X}^\\top\\Sigma^{-1}\\mathbf{X}w + w^\\top S^{-1}w - 2m^\\top S^{-1} w + m^\\top S^{-1}m \\right)  \\right\\}\\\\\n",
    "&= const * \\mathrm{exp}\\left\\{ \\mathbf{y}^\\top\\Sigma^{-1}\\mathbf{y} + m^\\top S^{-1}m \\right\\}\\mathrm{exp}\\left\\{ w^\\top \\left(S^{-1} + \\mathbf{X}^\\top\\Sigma^{-1}\\mathbf{X}\\right) w - 2\\left(\\mathbf{y}^\\top \\Sigma^{-1}\\mathbf{X} + m^\\top S^{-1} \\right) w\\right\\}\\\\\n",
    "&= const * \\mathrm{exp}\\left\\{ w^\\top \\left(S^{-1} + \\mathbf{X}^\\top\\Sigma^{-1}\\mathbf{X}\\right) w - 2\\left(\\mathbf{y}^\\top \\Sigma^{-1}\\mathbf{X} + m^\\top S^{-1} \\right) w\\right\\}\\\\\n",
    "&= const * \\mathrm{exp}\\left\\{ w^\\top A w - 2b w\\right\\}\n",
    "\\end{aligned}\n",
    "where $A = \\left(S^{-1} + \\mathbf{X}^\\top\\Sigma^{-1}\\mathbf{X}\\right)$ and $b = \\left(\\mathbf{y}^\\top \\Sigma^{-1}\\mathbf{X} + m^\\top S^{-1} \\right)$.\n",
    "\n",
    "In the last line of the above, we see that the inside of the exponential function is almost a matrix square, to ***complete the square*** (and factor the expression) we need to add and subtract the term $bA b^\\top$:\n",
    "\\begin{aligned}\n",
    "p(w | \\mathbf{y}, \\mathbf{X}) &= const * \\mathrm{exp}\\left\\{ w^\\top A w - 2b w\\right\\}\\\\\n",
    "&= const * \\mathrm{exp}\\left\\{ w^\\top A w - 2b w + bA b^\\top- bA b^\\top\\right\\}\\\\\n",
    "&= const * \\mathrm{exp}\\left\\{ (w - A^{-1}b^\\top)^\\top A(w - A^{-1}b^\\top) - bA b^\\top\\right\\}\\\\\n",
    "&= const * \\mathrm{exp}\\left\\{ - b^\\top A b^\\top\\right\\}\\mathrm{exp}\\left\\{ (w - A^{-1}b^\\top)^\\top A(w - A^{-1}b^\\top)\\right\\}\\\\\n",
    "&= const * \\mathrm{exp}\\left\\{ (w - A^{-1}b^\\top)^\\top A(w - A^{-1}b^\\top)\\right\\}.\n",
    "\\end{aligned}\n",
    "\n",
    "Finally, we see that the posterior $p(w | \\mathbf{y}, \\mathbf{X})$ has the form of a multivariate Gaussian, with mean $A^{-1}b$ and covariance $A^{-1}$. That is,\n",
    "$$\n",
    "p(w | \\mathbf{y}, \\mathbf{X}) = \\mathcal{N}\\left(\\left(S^{-1} + \\mathbf{X}^\\top\\Sigma^{-1}\\mathbf{X}\\right)^{-1} \\left(\\mathbf{y}^\\top \\Sigma^{-1}\\mathbf{X} + m^\\top S^{-1} \\right)^\\top, \\left(S^{-1} + \\mathbf{X}^\\top\\Sigma^{-1}\\mathbf{X}\\right)^{-1}\\right).\n",
    "$$\n",
    "In our case, we have that $\\Sigma^{-1} = 2I_{2\\times2}$, $m = [0\\;\\; 0]$ and $S = \\left[\\begin{array}{cc} 0.5 & 0\\\\ 0 & 1 \\end{array} \\right]$. Hence, our posterior mean is\n",
    "$$\n",
    "\\left(S^{-1} + \\mathbf{X}^\\top\\Sigma^{-1}\\mathbf{X}\\right)^{-1} \\left(\\mathbf{y}^\\top \\Sigma^{-1}\\mathbf{X} + m^\\top S^{-1} \\right)^\\top = \\left(S^{-1} + 2\\mathbf{X}^\\top\\mathbf{X}\\right)^{-1} \\left(2\\mathbf{X}^\\top\\mathbf{y} \\right).\n",
    "$$\n",
    "Our posterior covariance is \n",
    "$$\n",
    "(S^{-1} + 2\\mathbf{X}^\\top\\mathbf{X})^{-1}\n",
    "$$"
   ]
  },
  {
   "cell_type": "markdown",
   "metadata": {},
   "source": [
    "2. **(Model Interpretation)** Visualize the ***joint posterior*** over the parameters, $p(w_1, w_0 | y, x)$ for the dataset in `HW0_data.csv` (you may use a scatter plot of samples drawn from the posterior or a contour map/heat map of the pdf). In separate plots, visualize the ***marginal posterior*** distribution over each parameter,\n",
    "\\begin{aligned}\n",
    "p(w_1 | y_1, \\ldots y_n, x_1, \\ldots, x_n) &= \\int_{w_0} p(w_1, w_0 | y_1, \\ldots y_n, x_1, \\ldots, x_n) dw_0\\\\\n",
    "p(w_0 | y_1, \\ldots y_n, x_1, \\ldots, x_n) &= \\int_{w_0} p(w_1, w_0 | y_1, \\ldots y_n, x_1, \\ldots, x_n) dw_1\\\\\n",
    "\\end{aligned}\n",
    "  Is the information contained in the joint posterior $p(w_1, w_0 | y_1, \\ldots y_n, x_1, \\ldots, x_n)$ equivalent to the information contained in the two marginals $p(w_1 | y_1, \\ldots y_n, x_1, \\ldots, x_n), p(w_0 | y_1, \\ldots y_n, x_1, \\ldots, x_n)$? That is, what does each distribution tell you?<br><br>\n",
    "*Hint: it is not necessary to analytically derive the marginals $p(w_i | y_1, \\ldots y_n, x_1, \\ldots, x_n)$. Recall that you can perform marginalization of a variable by sampling from the joint distribution and disregarding that variable.*\n",
    "  \n",
    "**Solution:** From #1, we see that the posterior $p(w | \\mathbf{y}, \\mathbf{X})$ is a bivariate Gaussian with mean $\\mu$ and covariance $\\Sigma$ defined as below:\n",
    "\n",
    "\\begin{aligned}\n",
    "\\mu &= \\left(S^{-1} + 2\\mathbf{X}^\\top\\mathbf{X}\\right)^{-1} \\left(2\\mathbf{X}^\\top\\mathbf{y} \\right)\\\\\n",
    "\\Sigma &= \\left(S^{-1} + 2\\mathbf{X}^\\top\\mathbf{X}\\right)^{-1}\\\\\n",
    "\\end{aligned}\n",
    "\n",
    "We visualize the joint posterior by sampling 100 points from $\\mathcal{N}(\\mu, \\Sigma)$ and scatter plotting these points. \n",
    "\n",
    "For the posterior marginal distribution $p(w_0 | y_1, \\ldots y_n, x_1, \\ldots, x_n)$, we simply histogram the first coordinates (representing $w_0$) of these 100 samples (disregarding the second coordinate). The same can be done for $p(w_1 | y_1, \\ldots y_n, x_1, \\ldots, x_n)$."
   ]
  },
  {
   "cell_type": "code",
   "execution_count": 8,
   "metadata": {},
   "outputs": [],
   "source": [
    "x_matrix = np.hstack((x.reshape((-1, 1)), np.ones(x.shape)))\n",
    "y_matrix = y.reshape((-1, 1))\n",
    "\n",
    "prior_variance = np.diag((0.5, 1))\n",
    "prior_precision = np.linalg.inv(prior_variance)\n",
    "\n",
    "#defining the posterior variance\n",
    "joint_variance = np.linalg.inv(prior_precision + 2 * x_matrix.T.dot(x_matrix))\n",
    "#defining the posterior mean\n",
    "joint_mean = joint_variance.dot(x_matrix.T.dot(y_matrix)) * 2\n",
    "\n",
    "#sampling 100 points from the posterior\n",
    "posterior_samples = np.random.multivariate_normal(joint_mean.flatten(), joint_variance, size=200)"
   ]
  },
  {
   "cell_type": "code",
   "execution_count": 9,
   "metadata": {},
   "outputs": [
    {
     "data": {
      "image/png": "[encoded data removed]",
      "text/plain": [
       "<Figure size 720x360 with 1 Axes>"
      ]
     },
     "metadata": {
      "needs_background": "light"
     },
     "output_type": "display_data"
    }
   ],
   "source": [
    "fig, ax = plt.subplots(1, 1, figsize=(10, 5))\n",
    "#visualize the joint posterior\n",
    "ax.scatter(posterior_samples[:, 0], posterior_samples[:, 1], color='blue', alpha=0.3, label='samples from the joint posterior')\n",
    "\n",
    "ax.set_xlabel('w_1')\n",
    "ax.set_ylabel('w_0')\n",
    "ax.set_title('Visualization of the joint posterior')\n",
    "ax.legend(loc='best')\n",
    "plt.show()"
   ]
  },
  {
   "cell_type": "code",
   "execution_count": 10,
   "metadata": {},
   "outputs": [
    {
     "data": {
      "image/png": "[encoded data removed]",
      "text/plain": [
       "<Figure size 1440x360 with 2 Axes>"
      ]
     },
     "metadata": {
      "needs_background": "light"
     },
     "output_type": "display_data"
    }
   ],
   "source": [
    "fig, ax = plt.subplots(1, 2, figsize=(20, 5))\n",
    "#visualize the posterior marginal of w_0\n",
    "ax[0].hist(posterior_samples[:, 0], density=True, color='green', bins=10, alpha=0.5)\n",
    "ax[0].set_xlabel('Values of w_1')\n",
    "ax[0].set_ylabel('Relative Frequency')\n",
    "ax[0].set_title('Visualization of the posterior marginal of w_1')\n",
    "#visualize the posterior marginal of w_1\n",
    "ax[1].hist(posterior_samples[:, 1], density=True, color='purple', bins=10, alpha=0.5)\n",
    "ax[1].set_xlabel('Values of w_0')\n",
    "ax[1].set_ylabel('Relative Frequency')\n",
    "ax[1].set_title('Visualization of the posterior marginal of w_0')\n",
    "plt.show()"
   ]
  },
  {
   "cell_type": "markdown",
   "metadata": {},
   "source": [
    "The information contained in the joint posterior is not equivalent to the two marginals. The posterior marginals alone tell you how each parameter is distributed but does they cannot tell you how the two parameters are correlated, and such correlations is important for understanding how the parameters are related. For example, if the slope is estimated to be 4, then in order to produce a good fit for the data, our choices of the intercept must be limited to a specific range. The joint posterior distribution describes both the independent distributions of each parameter as well as their correlation (from the visualization of the joint, you can see that the Gaussian has a slight negative trend -- i.e. slope and intercept are negatively correlated)."
   ]
  },
  {
   "cell_type": "markdown",
   "metadata": {},
   "source": [
    "3. **(Prediction)** In Bayesian linear regression, we obtain a distribution over possible parameters given the data, $p(w_1, w_0 | y, x)$, rather than a single ***point-estimate*** of the 'best' parameters. This means that when we predict an outcome for, say, $x=2$ we get a distribution over possible values of $y$ rather than a single $y$. The distribution over the predicted $y$ for a given $x$ is called the ***posterior predictive***, and is denoted $p(y|x)$.\n",
    "\n",
    "  Visualize the posterior predictive $p(y|x)$ at $x=2$ for the dataset in `HW0_data.csv`as a histogram. \n",
    "\n",
    "  *Hint: randomly sample possible parameters from the posterior $p(w_1, w_0 | y_1, \\ldots y_n, x_1, \\ldots, x_n)$. Each sample represents a linear function $f(x)$. Make a prediction at $x=2$ using each $f(x)$.*\n",
    "  \n",
    "**Solution:** Each sample $(w_0, w_1)$ from the posterior $p(w_0, w_1 | y_1, \\ldots y_n, x_1, \\ldots, x_n)$ represents a linear model and hence can be used to predict the $y$ value at $x=2$. We use our 100 posterior samples to produce 100 predictions at $x=2$. "
   ]
  },
  {
   "cell_type": "code",
   "execution_count": 11,
   "metadata": {},
   "outputs": [
    {
     "data": {
      "image/png": "[encoded data removed]",
      "text/plain": [
       "<Figure size 720x360 with 1 Axes>"
      ]
     },
     "metadata": {
      "needs_background": "light"
     },
     "output_type": "display_data"
    }
   ],
   "source": [
    "#predict y for every sample in the posterior\n",
    "y_predictions_bayes = [f(sample[0], sample[1]) for sample in posterior_samples]\n",
    "\n",
    "fig, ax = plt.subplots(1, 1, figsize=(10, 5))\n",
    "#plot a histogram of the predictions\n",
    "ax.hist(y_predictions_bayes, density=True, color='orange', bins=10, alpha=0.5)\n",
    "\n",
    "ax.set_xlabel('Predicted y at x=2')\n",
    "ax.set_ylabel('Relative Frequency')\n",
    "ax.set_title('Visualization of the posterior predictive at x=2')\n",
    "plt.show()"
   ]
  },
  {
   "cell_type": "markdown",
   "metadata": {},
   "source": [
    "## Part III: Comparison\n",
    "\n",
    "You've now modeled the same set of data using non-Bayesian and Bayesian regression models. In both paradigms it's possible to identify a 'best' set of model parameters (in the non-Bayesian approach, we compute the MLE; in the Bayesian approach, we can compute the mean or mode of the posterior). In both paradigms it is possible to get a sense of the uncertainty we have about our estimates of the parameter and our predictions. \n",
    "\n",
    "1. Compute the 95 percentile interval of the marginal posterior distributions $p(w_i | y, x)$  for the dataset in `HW0_data.csv` (you can either do this analytically, or empirically using samples from $p(w_i | y, x)$). Compare these intervals to the CI's you computed in Part I. Which interval is wider? What does this say about the uncertainty of each model over the parameters?\n",
    "\n",
    "**Solution:**"
   ]
  },
  {
   "cell_type": "code",
   "execution_count": 12,
   "metadata": {},
   "outputs": [
    {
     "data": {
      "text/html": [
       "<div>\n",
       "<style scoped>\n",
       "    .dataframe tbody tr th:only-of-type {\n",
       "        vertical-align: middle;\n",
       "    }\n",
       "\n",
       "    .dataframe tbody tr th {\n",
       "        vertical-align: top;\n",
       "    }\n",
       "\n",
       "    .dataframe thead th {\n",
       "        text-align: right;\n",
       "    }\n",
       "</style>\n",
       "<table border=\"1\" class=\"dataframe\">\n",
       "  <thead>\n",
       "    <tr style=\"text-align: right;\">\n",
       "      <th></th>\n",
       "      <th>posterior mean</th>\n",
       "      <th>posterior 2.5 Percentile</th>\n",
       "      <th>posterior 97.5 Percentile</th>\n",
       "    </tr>\n",
       "  </thead>\n",
       "  <tbody>\n",
       "    <tr>\n",
       "      <th>intercept</th>\n",
       "      <td>5.216417</td>\n",
       "      <td>5.185638</td>\n",
       "      <td>5.239677</td>\n",
       "    </tr>\n",
       "    <tr>\n",
       "      <th>slope</th>\n",
       "      <td>8.816251</td>\n",
       "      <td>8.673719</td>\n",
       "      <td>8.966208</td>\n",
       "    </tr>\n",
       "  </tbody>\n",
       "</table>\n",
       "</div>"
      ],
      "text/plain": [
       "           posterior mean  posterior 2.5 Percentile  posterior 97.5 Percentile\n",
       "intercept        5.216417                  5.185638                   5.239677\n",
       "slope            8.816251                  8.673719                   8.966208"
      ]
     },
     "execution_count": 12,
     "metadata": {},
     "output_type": "execute_result"
    }
   ],
   "source": [
    "slope_lower = np.percentile(posterior_samples[:, 1], 2.5)\n",
    "slope_higher = np.percentile(posterior_samples[:, 1], 97.5)\n",
    "slope_mean = np.percentile(posterior_samples[:, 1], 50)\n",
    "\n",
    "intercept_lower = np.percentile(posterior_samples[:, 0], 2.5)\n",
    "intercept_higher = np.percentile(posterior_samples[:, 0], 97.5)\n",
    "intercept_mean = np.percentile(posterior_samples[:, 0], 50)\n",
    "\n",
    "bayesian_interval_df = pd.DataFrame(data=[[intercept_mean, intercept_lower, intercept_higher], \n",
    "                           [slope_mean, slope_lower, slope_higher]],\n",
    "                     index=['intercept', 'slope'],\n",
    "                     columns=['posterior mean', 'posterior 2.5 Percentile', 'posterior 97.5 Percentile'])\n",
    "bayesian_interval_df"
   ]
  },
  {
   "cell_type": "markdown",
   "metadata": {},
   "source": [
    "It appears that the CI's of the MLE model are wider than the 95% intervals of the posterior distributions for the Bayesian model. This would indicate that the Bayesian model is more \"certain\" about the values of the model parameters. Whether or not a given level of certainty is appropriate depends on the data (see extra credit) as well as the real task."
   ]
  },
  {
   "cell_type": "markdown",
   "metadata": {},
   "source": [
    "2. Compute the 95 percentile interval of posterior predictive at $x=2$ for the dataset in `HW0_data.csv` (you can either do this analytically, or empirically using samples from $p(y| x=2)$). Compare this interval to the PI you computed in Part I. Which interval is wider? What does this say about the uncertainty of each model over the prediction?\n",
    "\n",
    "**Solution:**"
   ]
  },
  {
   "cell_type": "code",
   "execution_count": 13,
   "metadata": {},
   "outputs": [
    {
     "data": {
      "text/html": [
       "<div>\n",
       "<style scoped>\n",
       "    .dataframe tbody tr th:only-of-type {\n",
       "        vertical-align: middle;\n",
       "    }\n",
       "\n",
       "    .dataframe tbody tr th {\n",
       "        vertical-align: top;\n",
       "    }\n",
       "\n",
       "    .dataframe thead th {\n",
       "        text-align: right;\n",
       "    }\n",
       "</style>\n",
       "<table border=\"1\" class=\"dataframe\">\n",
       "  <thead>\n",
       "    <tr style=\"text-align: right;\">\n",
       "      <th></th>\n",
       "      <th>posterior predictive mean</th>\n",
       "      <th>posterior 2.5 Percentile</th>\n",
       "      <th>posterior 97.5 Percentile</th>\n",
       "    </tr>\n",
       "  </thead>\n",
       "  <tbody>\n",
       "    <tr>\n",
       "      <th>y prediction at x=2</th>\n",
       "      <td>19.269026</td>\n",
       "      <td>18.372476</td>\n",
       "      <td>20.136411</td>\n",
       "    </tr>\n",
       "  </tbody>\n",
       "</table>\n",
       "</div>"
      ],
      "text/plain": [
       "                     posterior predictive mean  posterior 2.5 Percentile  \\\n",
       "y prediction at x=2                  19.269026                 18.372476   \n",
       "\n",
       "                     posterior 97.5 Percentile  \n",
       "y prediction at x=2                  20.136411  "
      ]
     },
     "execution_count": 13,
     "metadata": {},
     "output_type": "execute_result"
    }
   ],
   "source": [
    "y_lower = np.percentile(y_predictions_bayes, 2.5)\n",
    "y_higher = np.percentile(y_predictions_bayes, 97.5)\n",
    "y_mean = np.percentile(y_predictions_bayes, 50)\n",
    "\n",
    "bayesian_PI_df = pd.DataFrame(data=[[y_mean, y_lower, y_higher]],\n",
    "                     index=['y prediction at x=2'],\n",
    "                     columns=['posterior predictive mean', 'posterior 2.5 Percentile', 'posterior 97.5 Percentile'])\n",
    "bayesian_PI_df"
   ]
  },
  {
   "cell_type": "markdown",
   "metadata": {},
   "source": [
    "The PI of the MLE model is also wider than that of the Bayesian model. The Bayesian model is much more certain about its prediction. Again, whether or not a given level of certainty is appropriate depends on the data (see extra credit) as well as the real task."
   ]
  }
 ],
 "metadata": {
  "kernelspec": {
   "display_name": "Python 3",
   "language": "python",
   "name": "python3"
  },
  "language_info": {
   "codemirror_mode": {
    "name": "ipython",
    "version": 3
   },
   "file_extension": ".py",
   "mimetype": "text/x-python",
   "name": "python",
   "nbconvert_exporter": "python",
   "pygments_lexer": "ipython3",
   "version": "3.8.5"
  }
 },
 "nbformat": 4,
 "nbformat_minor": 2
}
